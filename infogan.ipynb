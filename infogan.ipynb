{
 "cells": [
  {
   "cell_type": "markdown",
   "metadata": {},
   "source": [
    "# InfoGAN Implementation\n",
    "\n",
    "The following is an implementation of [InfoGAN: Interpretable Representation Learning by Information Maximizing Generative Adversarial Nets](https://arxiv.org/abs/1606.03657) (Xi Chen, Yan Duan, Rein Houthooft, John Schulman, Ilya Sutskever, Pieter Abbeel (2016)). \n",
    "\n",
    "The code for the main GAN network (before InfoGAN adaptation) is based off of an implementation by [generative-adversarial-networks](https://github.com/jonbruner/generative-adversarial-networks) by Jon Bruner and Adit Deshpande.\n",
    "\n",
    "\n",
    "##### Implementation by Matt Shaffer (*matt@discovermatt.com*)\n"
   ]
  },
  {
   "cell_type": "code",
   "execution_count": 1,
   "metadata": {},
   "outputs": [
    {
     "name": "stdout",
     "output_type": "stream",
     "text": [
      "Darwin OS detected\n",
      "Extracting MNIST_data/train-images-idx3-ubyte.gz\n",
      "Extracting MNIST_data/train-labels-idx1-ubyte.gz\n",
      "Extracting MNIST_data/t10k-images-idx3-ubyte.gz\n",
      "Extracting MNIST_data/t10k-labels-idx1-ubyte.gz\n"
     ]
    }
   ],
   "source": [
    "import os\n",
    "import tensorflow as tf\n",
    "import numpy as np\n",
    "import scipy.stats as stats\n",
    "import datetime\n",
    "import matplotlib.pyplot as plt\n",
    "import platform as _platform\n",
    "%matplotlib inline\n",
    "\n",
    "if _platform.system() == 'Windows':\n",
    "    print(\"Windows OS detected\")\n",
    "    PLATFORM = \"win\"\n",
    "    MODEL_DIR = \"./models\"\n",
    "elif _platform.system() == 'Linux':\n",
    "    print(\"Linux OS detected\")\n",
    "    PLATFORM = \"linux\"\n",
    "    MODEL_DIR = \"./models\"\n",
    "elif _platform.system() == 'Darwin':\n",
    "    print(\"Darwin OS detected\")\n",
    "    PLATFORM = \"darwin\"\n",
    "    MODEL_DIR = \"./models\"\n",
    "else:\n",
    "    PLATFORM = None\n",
    "    print(\"Platform undetected. Set root directories manually.\")\n",
    "    \n",
    "if not os.path.isdir(MODEL_DIR): # Create model directory if it does not exist\n",
    "    print(\"creating directory for saved models\")\n",
    "    os.mkdir(MODEL_DIR)\n",
    "if not os.path.isdir(MODEL_DIR + \"/images\"): # Create images directory\n",
    "    print(\"creating directory for saved images\")\n",
    "    os.mkdir(MODEL_DIR + \"/images\")\n",
    "\n",
    "from tensorflow.examples.tutorials.mnist import input_data\n",
    "mnist = input_data.read_data_sets(\"MNIST_data/\")\n",
    "\n",
    "LAST_CKPT = 132000 # Number of last checkpoint to restore and resume training from"
   ]
  },
  {
   "cell_type": "markdown",
   "metadata": {},
   "source": [
    "## Hyperparams"
   ]
  },
  {
   "cell_type": "code",
   "execution_count": 2,
   "metadata": {
    "collapsed": true
   },
   "outputs": [],
   "source": [
    "nb_epochs = 150000 # training epochs | default = 100000\n",
    "batch_size = 64 # batch size | default = 50\n",
    "alpha=0.1 # Leaky RELU alpha | range(0.0,1.0) | default = 0.1\n",
    "lambd=1.0 # lambda for entropy term L(G,Q) | range(0.0,1.0) | default = 1.0\n",
    "z_dim = 100 # Latent space z, for generator | default = 100\n",
    "c_dim = 10 # Latent space c. For MNIST: c=10 (Categorical input with 10 classes)\n",
    "d_alpha = 0.0003 # discriminator learning rate | default = 0.0003\n",
    "g_alpha = 0.0001 # generator learning rate | default = 0.0001\n",
    "q_alpha = 0.0001 # q learning rate | default = 0.0001"
   ]
  },
  {
   "cell_type": "markdown",
   "metadata": {},
   "source": [
    "## Utility Functions"
   ]
  },
  {
   "cell_type": "code",
   "execution_count": 3,
   "metadata": {
    "collapsed": true
   },
   "outputs": [],
   "source": [
    "# Optional utility function for Xavier initialization\n",
    "def xavier_init(dim):\n",
    "    d = dim[0]\n",
    "    x_stddev = 1.0 / tf.sqrt(d / 2.0)\n",
    "    return tf.random_normal(shape=dim, stddev=x_stddev)"
   ]
  },
  {
   "cell_type": "markdown",
   "metadata": {},
   "source": [
    "## Sample Images"
   ]
  },
  {
   "cell_type": "code",
   "execution_count": 5,
   "metadata": {
    "scrolled": false
   },
   "outputs": [
    {
     "data": {
      "text/plain": [
       "<matplotlib.image.AxesImage at 0x11f340550>"
      ]
     },
     "execution_count": 5,
     "metadata": {},
     "output_type": "execute_result"
    },
    {
     "data": {
      "image/png": "[encoded data removed]",
      "text/plain": [
       "<matplotlib.figure.Figure at 0x11633af98>"
      ]
     },
     "metadata": {},
     "output_type": "display_data"
    }
   ],
   "source": [
    "sample = mnist.train.next_batch(1)[0]\n",
    "sample = sample.reshape([28, 28])\n",
    "plt.imshow(sample, cmap='gist_gray')"
   ]
  },
  {
   "cell_type": "markdown",
   "metadata": {},
   "source": [
    "## Discriminator"
   ]
  },
  {
   "cell_type": "code",
   "execution_count": 6,
   "metadata": {
    "collapsed": true
   },
   "outputs": [],
   "source": [
    "def discriminator(images, c_dim, batch_size, reuse_variables=None):\n",
    "    with tf.variable_scope(tf.get_variable_scope(), reuse=reuse_variables) as scope: \n",
    "        # First convolutional and pool layers\n",
    "        # This finds 32 different 5 x 5 pixel features\n",
    "        d_w1 = tf.get_variable('d_w1', [5, 5, 1, 32], initializer=tf.truncated_normal_initializer(stddev=0.02))\n",
    "        d_b1 = tf.get_variable('d_b1', [32], initializer=tf.constant_initializer(0))\n",
    "        d1 = tf.nn.conv2d(input=images, filter=d_w1, strides=[1, 1, 1, 1], padding='SAME')\n",
    "        d1 = d1 + d_b1\n",
    "        d1 = tf.maximum(d1, alpha*d1) # Leaky Relu\n",
    "        d1 = tf.nn.avg_pool(d1, ksize=[1, 2, 2, 1], strides=[1, 2, 2, 1], padding='SAME')\n",
    "\n",
    "        # Second convolutional and pool layers\n",
    "        # This finds 64 different 5 x 5 pixel features\n",
    "        d_w2 = tf.get_variable('d_w2', [5, 5, 32, 64], initializer=tf.truncated_normal_initializer(stddev=0.02))\n",
    "        d_b2 = tf.get_variable('d_b2', [64], initializer=tf.constant_initializer(0))\n",
    "        d2 = tf.nn.conv2d(input=d1, filter=d_w2, strides=[1, 1, 1, 1], padding='SAME')\n",
    "        d2 = d2 + d_b2\n",
    "        d2 = tf.maximum(d2, alpha*d2) # Leaky Relu\n",
    "        d2 = tf.nn.avg_pool(d2, ksize=[1, 2, 2, 1], strides=[1, 2, 2, 1], padding='SAME')\n",
    "\n",
    "        # First fully connected layer\n",
    "        d_w3 = tf.get_variable('d_w3', [7 * 7 * 64, 1024], initializer=tf.truncated_normal_initializer(stddev=0.02))\n",
    "        d_b3 = tf.get_variable('d_b3', [1024], initializer=tf.constant_initializer(0))\n",
    "        d3 = tf.reshape(d2, [-1, 7 * 7 * 64])\n",
    "        d3 = tf.matmul(d3, d_w3)\n",
    "        d3 = d3 + d_b3\n",
    "        d3 = tf.maximum(d3, alpha*d3) # Leaky Relu\n",
    "\n",
    "        # Second fully connected layer\n",
    "        d_w4 = tf.get_variable('d_w4', [1024, 1], initializer=tf.truncated_normal_initializer(stddev=0.02))\n",
    "        d_b4 = tf.get_variable('d_b4', [1], initializer=tf.constant_initializer(0))\n",
    "        d4 = tf.matmul(d3, d_w4) + d_b4\n",
    "        \n",
    "        # Calculate Q(c|x) using fully connected layer\n",
    "        q_w1 = tf.get_variable('q_w1', [1, 1024], initializer=tf.truncated_normal_initializer(stddev=0.02))\n",
    "        q_b1 = tf.get_variable('q_b1', [1024], initializer=tf.constant_initializer(0))\n",
    "        q1 = tf.matmul(d4, q_w1) + q_b1\n",
    "        q1 = tf.maximum(q1, alpha*q1) # Leaky Relu\n",
    "                \n",
    "        # Linear output layer for Q\n",
    "        # No activation, and no softmax here. We will calculate entropy in optimization step (same as discriminator)\n",
    "        q_w2 = tf.get_variable('q_w2', [1024, c_dim], initializer=tf.truncated_normal_initializer(stddev=0.02))\n",
    "        q_b2 = tf.get_variable('q_b2', [c_dim], initializer=tf.constant_initializer(0))\n",
    "        Qcx = tf.matmul(q1, q_w2) + q_b2\n",
    "        \n",
    "        # d4 and Qcx contain unscaled values\n",
    "        return d4, Qcx"
   ]
  },
  {
   "cell_type": "markdown",
   "metadata": {},
   "source": [
    "## Generator"
   ]
  },
  {
   "cell_type": "code",
   "execution_count": 7,
   "metadata": {
    "collapsed": true
   },
   "outputs": [],
   "source": [
    "def generator(c, z, batch_size, c_dim, z_dim, reuse_variables=None):\n",
    "    with tf.variable_scope(tf.get_variable_scope(), reuse=reuse_variables) as scope:\n",
    "        c = tf.reshape(c, [batch_size, -1]) # reshape: [batch_size, <flattened>] input: [batch_size, c_dim]\n",
    "        z_latent = tf.concat([z,c], axis=1) # include latent layer c with z tensor as input to generator\n",
    "        \n",
    "        g_w1 = tf.get_variable('g_w1', [z_dim + c_dim, 3136], dtype=tf.float32, initializer=tf.truncated_normal_initializer(stddev=0.02))\n",
    "        g_b1 = tf.get_variable('g_b1', [3136], initializer=tf.truncated_normal_initializer(stddev=0.02))\n",
    "        g1 = tf.matmul(z_latent, g_w1) + g_b1\n",
    "        g1 = tf.reshape(g1, [-1, 56, 56, 1])\n",
    "        g1 = tf.contrib.layers.batch_norm(g1, epsilon=1e-5, scope='bn1')\n",
    "        g1 = tf.nn.relu(g1)\n",
    "\n",
    "        # Generate 50 features\n",
    "        g_w2 = tf.get_variable('g_w2', [3, 3, 1, z_dim/2], dtype=tf.float32, initializer=tf.truncated_normal_initializer(stddev=0.02))\n",
    "        g_b2 = tf.get_variable('g_b2', [z_dim/2], initializer=tf.truncated_normal_initializer(stddev=0.02))\n",
    "        g2 = tf.nn.conv2d(g1, g_w2, strides=[1, 2, 2, 1], padding='SAME')\n",
    "        g2 = g2 + g_b2\n",
    "        g2 = tf.contrib.layers.batch_norm(g2, epsilon=1e-5, scope='bn2')\n",
    "        g2 = tf.nn.relu(g2)\n",
    "        g2 = tf.image.resize_images(g2, [56, 56])\n",
    "\n",
    "        # Generate 25 features\n",
    "        g_w3 = tf.get_variable('g_w3', [3, 3, z_dim/2, z_dim/4], dtype=tf.float32, initializer=tf.truncated_normal_initializer(stddev=0.02))\n",
    "        g_b3 = tf.get_variable('g_b3', [z_dim/4], initializer=tf.truncated_normal_initializer(stddev=0.02))\n",
    "        g3 = tf.nn.conv2d(g2, g_w3, strides=[1, 2, 2, 1], padding='SAME')\n",
    "        g3 = g3 + g_b3\n",
    "        g3 = tf.contrib.layers.batch_norm(g3, epsilon=1e-5, scope='bn3')\n",
    "        g3 = tf.nn.relu(g3)\n",
    "        g3 = tf.image.resize_images(g3, [56, 56])\n",
    "\n",
    "        # Final convolution with one output channel\n",
    "        g_w4 = tf.get_variable('g_w4', [1, 1, z_dim/4, 1], dtype=tf.float32, initializer=tf.truncated_normal_initializer(stddev=0.02))\n",
    "        g_b4 = tf.get_variable('g_b4', [1], initializer=tf.truncated_normal_initializer(stddev=0.02))\n",
    "        g4 = tf.nn.conv2d(g3, g_w4, strides=[1, 2, 2, 1], padding='SAME')\n",
    "        g4 = g4 + g_b4\n",
    "        g4 = tf.sigmoid(g4)\n",
    "\n",
    "        # Dimensions of g4: batch_size x 28 x 28 x 1\n",
    "        return g4"
   ]
  },
  {
   "cell_type": "markdown",
   "metadata": {},
   "source": [
    "## Sample Noise"
   ]
  },
  {
   "cell_type": "code",
   "execution_count": 8,
   "metadata": {
    "collapsed": true,
    "scrolled": true
   },
   "outputs": [],
   "source": [
    "tf.reset_default_graph()\n",
    "sess = tf.InteractiveSession() #start interactive session for Jupyter notebook\n",
    "\n",
    "z_noise = tf.placeholder(tf.float32, [None, z_dim], name=\"z_placeholder\")\n",
    "c_sim = tf.placeholder(tf.float32, [None, c_dim], name=\"c_placeholder\")\n",
    "\n",
    "g_sample = generator(c_sim, z_noise, 1, c_dim, z_dim)\n",
    "\n",
    "# Noise sampling for generator inputs\n",
    "z_batch = np.random.normal(0, 1, [1, z_dim]) # Start with Gaussian noise\n",
    "c_batch = np.random.multinomial(1, c_dim*[1.0/c_dim], size=1) # Simulated categorical softmax\n"
   ]
  },
  {
   "cell_type": "code",
   "execution_count": 9,
   "metadata": {},
   "outputs": [
    {
     "data": {
      "image/png": "[encoded data removed]",
      "text/plain": [
       "<matplotlib.figure.Figure at 0x11f629fd0>"
      ]
     },
     "metadata": {},
     "output_type": "display_data"
    }
   ],
   "source": [
    "sess.run(tf.global_variables_initializer())\n",
    "image = sess.run(g_sample, feed_dict={z_noise: z_batch,\n",
    "                                      c_sim: c_batch})\n",
    "image = image.reshape([28, 28])\n",
    "plt.imshow(image, cmap='gist_gray')\n",
    "sess.close() # End interactive session for Jupyter notebook"
   ]
  },
  {
   "cell_type": "code",
   "execution_count": 10,
   "metadata": {
    "collapsed": true
   },
   "outputs": [],
   "source": [
    "tf.reset_default_graph()\n",
    "\n",
    "# input noise to the generator\n",
    "z_noise = tf.placeholder(tf.float32, [None, z_dim], name='z_noise') \n",
    "# simulated input noise for latent variable c\n",
    "c_sim = tf.placeholder(tf.float32, [None, c_dim], name=\"c_sim\")\n",
    "# input images to discriminator\n",
    "x_in = tf.placeholder(tf.float32, shape = [None,28,28,1], name='x_in') \n",
    "# Generator\n",
    "Gz = generator(c_sim, z_noise, batch_size, c_dim, z_dim) \n",
    "# Discriminator Real (prediction probabilities for the real images)\n",
    "Dx, _ = discriminator(x_in, c_dim, batch_size) \n",
    "# Discriminator Fake (prediction probabilities for the generated images) and Q latent predictions\n",
    "Dg, Qcx = discriminator(Gz, c_dim, batch_size, reuse_variables=True)"
   ]
  },
  {
   "cell_type": "markdown",
   "metadata": {},
   "source": [
    "#### Discriminator Loss"
   ]
  },
  {
   "cell_type": "code",
   "execution_count": 11,
   "metadata": {
    "collapsed": true
   },
   "outputs": [],
   "source": [
    "d_loss_real = tf.reduce_mean(tf.nn.sigmoid_cross_entropy_with_logits(logits = Dx, labels = tf.ones_like(Dx)))\n",
    "d_loss_fake = tf.reduce_mean(tf.nn.sigmoid_cross_entropy_with_logits(logits = Dg, labels = tf.zeros_like(Dg)))"
   ]
  },
  {
   "cell_type": "markdown",
   "metadata": {},
   "source": [
    "#### Generator Loss"
   ]
  },
  {
   "cell_type": "code",
   "execution_count": 12,
   "metadata": {
    "collapsed": true
   },
   "outputs": [],
   "source": [
    "g_loss = tf.reduce_mean(tf.nn.sigmoid_cross_entropy_with_logits(logits = Dg, labels = tf.ones_like(Dg)))  "
   ]
  },
  {
   "cell_type": "markdown",
   "metadata": {},
   "source": [
    "#### InfoGAN Loss"
   ]
  },
  {
   "cell_type": "code",
   "execution_count": 13,
   "metadata": {
    "collapsed": true
   },
   "outputs": [],
   "source": [
    "# Entropy of Q: lambda*L(G,Q)\n",
    "q_H = tf.reduce_mean(lambd*tf.nn.sigmoid_cross_entropy_with_logits(logits = tf.nn.softmax(Qcx), \n",
    "                                                                   labels = c_sim))\n",
    "# infoGAN loss function: Loss = V(D,G) - lambda*L(G,Q)\n",
    "q_loss = tf.abs((g_loss - q_H))"
   ]
  },
  {
   "cell_type": "code",
   "execution_count": 14,
   "metadata": {},
   "outputs": [
    {
     "name": "stdout",
     "output_type": "stream",
     "text": [
      "['d_w1:0', 'd_b1:0', 'd_w2:0', 'd_b2:0', 'd_w3:0', 'd_b3:0', 'd_w4:0', 'd_b4:0']\n",
      "['g_w1:0', 'g_b1:0', 'g_w2:0', 'g_b2:0', 'g_w3:0', 'g_b3:0', 'g_w4:0', 'g_b4:0']\n",
      "['q_w1:0', 'q_b1:0', 'q_w2:0', 'q_b2:0']\n"
     ]
    }
   ],
   "source": [
    "tvars = tf.trainable_variables()\n",
    "\n",
    "d_vars = [var for var in tvars if 'd_' in var.name]\n",
    "g_vars = [var for var in tvars if 'g_' in var.name]\n",
    "q_vars = [var for var in tvars if 'q_' in var.name]\n",
    "\n",
    "print([v.name for v in d_vars])\n",
    "print([v.name for v in g_vars])\n",
    "print([v.name for v in q_vars])"
   ]
  },
  {
   "cell_type": "code",
   "execution_count": 15,
   "metadata": {
    "collapsed": true
   },
   "outputs": [],
   "source": [
    "# Train the discriminator\n",
    "d_train_fake = tf.train.AdamOptimizer(d_alpha).minimize(d_loss_fake, var_list=d_vars)\n",
    "d_train_real = tf.train.AdamOptimizer(d_alpha).minimize(d_loss_real, var_list=d_vars)\n",
    "\n",
    "# Train the generator\n",
    "g_train = tf.train.AdamOptimizer(g_alpha).minimize(g_loss, var_list=g_vars)\n",
    "\n",
    "# Train the latent variables, update q and g parameters\n",
    "q_train = tf.train.AdamOptimizer(q_alpha).minimize(q_loss, var_list=q_vars+g_vars)"
   ]
  },
  {
   "cell_type": "markdown",
   "metadata": {},
   "source": [
    "#### Tensorboard\n",
    "\n",
    "\n",
    "Run with:\n",
    "```\n",
    "tensorboard --logdir=tensorboard/\n",
    "```\n",
    "[`http://localhost:6006`](http://localhost:6006) "
   ]
  },
  {
   "cell_type": "code",
   "execution_count": 17,
   "metadata": {
    "collapsed": true
   },
   "outputs": [],
   "source": [
    "# From this point forward, reuse variables\n",
    "tf.get_variable_scope().reuse_variables()\n",
    "\n",
    "tf.summary.scalar('Generator_loss', g_loss)\n",
    "tf.summary.scalar('Discriminator_loss_real', d_loss_real)\n",
    "tf.summary.scalar('Discriminator_loss_fake', d_loss_fake)\n",
    "tf.summary.scalar('Q_loss', q_loss)\n",
    "tf.summary.scalar('Q_entropy', q_H)\n",
    "\n",
    "images_for_tensorboard = generator(c_sim, z_noise, batch_size, c_dim, z_dim)\n",
    "tf.summary.image('Generated_images', images_for_tensorboard, 5)\n",
    "merged = tf.summary.merge_all()\n",
    "logdir = \"tensorboard/\" + datetime.datetime.now().strftime(\"%Y%m%d-%H%M%S\") + \"/\"\n",
    "writer = tf.summary.FileWriter(logdir, sess.graph)"
   ]
  },
  {
   "cell_type": "markdown",
   "metadata": {},
   "source": [
    "## Model Training"
   ]
  },
  {
   "cell_type": "code",
   "execution_count": 18,
   "metadata": {},
   "outputs": [
    {
     "name": "stdout",
     "output_type": "stream",
     "text": [
      "INFO:tensorflow:Restoring parameters from ./models/infogan.ckpt-131000\n",
      "Model restored successfully\n",
      "Iteration: 131000 at 2017-09-29 22:22:57.722474\n",
      "dLossReal: 1.66731 dLossFake: 0.527231 G_Loss: 7.41187 Q_loss: 6.67755 Q_entropy: 0.734316\n"
     ]
    },
    {
     "data": {
      "image/png": "[encoded data removed]",
      "text/plain": [
       "<matplotlib.figure.Figure at 0x121d0d6a0>"
      ]
     },
     "metadata": {},
     "output_type": "display_data"
    },
    {
     "name": "stdout",
     "output_type": "stream",
     "text": [
      "Estimate: [[-12.27523899]]\n",
      "Model saved in file: ./models/infogan.ckpt-131000\n",
      "Iteration: 131100 at 2017-09-29 22:24:53.148328\n",
      "dLossReal: 2.94511 dLossFake: 1.27485 G_Loss: 4.46297 Q_loss: 3.72865 Q_entropy: 0.734319\n",
      "Iteration: 131200 at 2017-09-29 22:26:47.362397\n",
      "dLossReal: 2.62174 dLossFake: 1.43285 G_Loss: 5.31942 Q_loss: 4.58504 Q_entropy: 0.734383\n",
      "Iteration: 131300 at 2017-09-29 22:28:36.063035\n",
      "dLossReal: 3.60526 dLossFake: 1.01207 G_Loss: 5.5706 Q_loss: 4.83622 Q_entropy: 0.734379\n",
      "Iteration: 131400 at 2017-09-29 22:30:26.181136\n",
      "dLossReal: 2.26908 dLossFake: 1.91829 G_Loss: 3.77023 Q_loss: 3.03587 Q_entropy: 0.734359\n",
      "Iteration: 131500 at 2017-09-29 22:32:17.305367\n",
      "dLossReal: 2.43878 dLossFake: 2.68867 G_Loss: 3.58789 Q_loss: 2.8534 Q_entropy: 0.734485\n",
      "Model saved in file: ./models/infogan.ckpt-131500\n",
      "Iteration: 131600 at 2017-09-29 22:34:14.353265\n",
      "dLossReal: 3.16478 dLossFake: 1.878 G_Loss: 4.29141 Q_loss: 3.55699 Q_entropy: 0.734419\n",
      "Iteration: 131700 at 2017-09-29 22:36:08.021772\n",
      "dLossReal: 1.77543 dLossFake: 2.45829 G_Loss: 2.86131 Q_loss: 2.12699 Q_entropy: 0.734319\n",
      "Iteration: 131800 at 2017-09-29 22:37:59.542216\n",
      "dLossReal: 4.24229 dLossFake: 1.89352 G_Loss: 3.87876 Q_loss: 3.14438 Q_entropy: 0.734385\n",
      "Iteration: 131900 at 2017-09-29 22:39:53.059706\n",
      "dLossReal: 2.50129 dLossFake: 1.72468 G_Loss: 3.92786 Q_loss: 3.19349 Q_entropy: 0.734372\n",
      "Iteration: 132000 at 2017-09-29 22:41:45.641784\n",
      "dLossReal: 1.70622 dLossFake: 2.06303 G_Loss: 4.50578 Q_loss: 3.77137 Q_entropy: 0.734416\n"
     ]
    },
    {
     "data": {
      "image/png": "[encoded data removed]",
      "text/plain": [
       "<matplotlib.figure.Figure at 0x12800c860>"
      ]
     },
     "metadata": {},
     "output_type": "display_data"
    },
    {
     "name": "stdout",
     "output_type": "stream",
     "text": [
      "Estimate: [[-3.97548699]]\n",
      "Model saved in file: ./models/infogan.ckpt-132000\n"
     ]
    },
    {
     "ename": "KeyboardInterrupt",
     "evalue": "",
     "output_type": "error",
     "traceback": [
      "\u001b[0;31m---------------------------------------------------------------------------\u001b[0m",
      "\u001b[0;31mKeyboardInterrupt\u001b[0m                         Traceback (most recent call last)",
      "\u001b[0;32m<ipython-input-18-529b6f61943a>\u001b[0m in \u001b[0;36m<module>\u001b[0;34m()\u001b[0m\n\u001b[1;32m     54\u001b[0m         \u001b[0mz_batch\u001b[0m \u001b[0;34m=\u001b[0m \u001b[0mnp\u001b[0m\u001b[0;34m.\u001b[0m\u001b[0mrandom\u001b[0m\u001b[0;34m.\u001b[0m\u001b[0mnormal\u001b[0m\u001b[0;34m(\u001b[0m\u001b[0;36m0\u001b[0m\u001b[0;34m,\u001b[0m \u001b[0;36m1\u001b[0m\u001b[0;34m,\u001b[0m \u001b[0;34m[\u001b[0m\u001b[0mbatch_size\u001b[0m\u001b[0;34m,\u001b[0m \u001b[0mz_dim\u001b[0m\u001b[0;34m]\u001b[0m\u001b[0;34m)\u001b[0m\u001b[0;34m\u001b[0m\u001b[0m\n\u001b[1;32m     55\u001b[0m         \u001b[0mc_batch\u001b[0m \u001b[0;34m=\u001b[0m \u001b[0mreal_label_batch\u001b[0m\u001b[0;34m\u001b[0m\u001b[0m\n\u001b[0;32m---> 56\u001b[0;31m         \u001b[0msummary\u001b[0m \u001b[0;34m=\u001b[0m \u001b[0msess\u001b[0m\u001b[0;34m.\u001b[0m\u001b[0mrun\u001b[0m\u001b[0;34m(\u001b[0m\u001b[0mmerged\u001b[0m\u001b[0;34m,\u001b[0m \u001b[0;34m{\u001b[0m\u001b[0mz_noise\u001b[0m\u001b[0;34m:\u001b[0m \u001b[0mz_batch\u001b[0m\u001b[0;34m,\u001b[0m \u001b[0mc_sim\u001b[0m\u001b[0;34m:\u001b[0m \u001b[0mc_batch\u001b[0m\u001b[0;34m,\u001b[0m \u001b[0mx_in\u001b[0m\u001b[0;34m:\u001b[0m \u001b[0mreal_image_batch\u001b[0m\u001b[0;34m}\u001b[0m\u001b[0;34m)\u001b[0m\u001b[0;34m\u001b[0m\u001b[0m\n\u001b[0m\u001b[1;32m     57\u001b[0m         \u001b[0mwriter\u001b[0m\u001b[0;34m.\u001b[0m\u001b[0madd_summary\u001b[0m\u001b[0;34m(\u001b[0m\u001b[0msummary\u001b[0m\u001b[0;34m,\u001b[0m \u001b[0mi\u001b[0m\u001b[0;34m)\u001b[0m\u001b[0;34m\u001b[0m\u001b[0m\n\u001b[1;32m     58\u001b[0m \u001b[0;34m\u001b[0m\u001b[0m\n",
      "\u001b[0;32m~/anaconda/envs/infogan-1/lib/python3.6/site-packages/tensorflow/python/client/session.py\u001b[0m in \u001b[0;36mrun\u001b[0;34m(self, fetches, feed_dict, options, run_metadata)\u001b[0m\n\u001b[1;32m    893\u001b[0m     \u001b[0;32mtry\u001b[0m\u001b[0;34m:\u001b[0m\u001b[0;34m\u001b[0m\u001b[0m\n\u001b[1;32m    894\u001b[0m       result = self._run(None, fetches, feed_dict, options_ptr,\n\u001b[0;32m--> 895\u001b[0;31m                          run_metadata_ptr)\n\u001b[0m\u001b[1;32m    896\u001b[0m       \u001b[0;32mif\u001b[0m \u001b[0mrun_metadata\u001b[0m\u001b[0;34m:\u001b[0m\u001b[0;34m\u001b[0m\u001b[0m\n\u001b[1;32m    897\u001b[0m         \u001b[0mproto_data\u001b[0m \u001b[0;34m=\u001b[0m \u001b[0mtf_session\u001b[0m\u001b[0;34m.\u001b[0m\u001b[0mTF_GetBuffer\u001b[0m\u001b[0;34m(\u001b[0m\u001b[0mrun_metadata_ptr\u001b[0m\u001b[0;34m)\u001b[0m\u001b[0;34m\u001b[0m\u001b[0m\n",
      "\u001b[0;32m~/anaconda/envs/infogan-1/lib/python3.6/site-packages/tensorflow/python/client/session.py\u001b[0m in \u001b[0;36m_run\u001b[0;34m(self, handle, fetches, feed_dict, options, run_metadata)\u001b[0m\n\u001b[1;32m   1122\u001b[0m     \u001b[0;32mif\u001b[0m \u001b[0mfinal_fetches\u001b[0m \u001b[0;32mor\u001b[0m \u001b[0mfinal_targets\u001b[0m \u001b[0;32mor\u001b[0m \u001b[0;34m(\u001b[0m\u001b[0mhandle\u001b[0m \u001b[0;32mand\u001b[0m \u001b[0mfeed_dict_tensor\u001b[0m\u001b[0;34m)\u001b[0m\u001b[0;34m:\u001b[0m\u001b[0;34m\u001b[0m\u001b[0m\n\u001b[1;32m   1123\u001b[0m       results = self._do_run(handle, final_targets, final_fetches,\n\u001b[0;32m-> 1124\u001b[0;31m                              feed_dict_tensor, options, run_metadata)\n\u001b[0m\u001b[1;32m   1125\u001b[0m     \u001b[0;32melse\u001b[0m\u001b[0;34m:\u001b[0m\u001b[0;34m\u001b[0m\u001b[0m\n\u001b[1;32m   1126\u001b[0m       \u001b[0mresults\u001b[0m \u001b[0;34m=\u001b[0m \u001b[0;34m[\u001b[0m\u001b[0;34m]\u001b[0m\u001b[0;34m\u001b[0m\u001b[0m\n",
      "\u001b[0;32m~/anaconda/envs/infogan-1/lib/python3.6/site-packages/tensorflow/python/client/session.py\u001b[0m in \u001b[0;36m_do_run\u001b[0;34m(self, handle, target_list, fetch_list, feed_dict, options, run_metadata)\u001b[0m\n\u001b[1;32m   1319\u001b[0m     \u001b[0;32mif\u001b[0m \u001b[0mhandle\u001b[0m \u001b[0;32mis\u001b[0m \u001b[0;32mNone\u001b[0m\u001b[0;34m:\u001b[0m\u001b[0;34m\u001b[0m\u001b[0m\n\u001b[1;32m   1320\u001b[0m       return self._do_call(_run_fn, self._session, feeds, fetches, targets,\n\u001b[0;32m-> 1321\u001b[0;31m                            options, run_metadata)\n\u001b[0m\u001b[1;32m   1322\u001b[0m     \u001b[0;32melse\u001b[0m\u001b[0;34m:\u001b[0m\u001b[0;34m\u001b[0m\u001b[0m\n\u001b[1;32m   1323\u001b[0m       \u001b[0;32mreturn\u001b[0m \u001b[0mself\u001b[0m\u001b[0;34m.\u001b[0m\u001b[0m_do_call\u001b[0m\u001b[0;34m(\u001b[0m\u001b[0m_prun_fn\u001b[0m\u001b[0;34m,\u001b[0m \u001b[0mself\u001b[0m\u001b[0;34m.\u001b[0m\u001b[0m_session\u001b[0m\u001b[0;34m,\u001b[0m \u001b[0mhandle\u001b[0m\u001b[0;34m,\u001b[0m \u001b[0mfeeds\u001b[0m\u001b[0;34m,\u001b[0m \u001b[0mfetches\u001b[0m\u001b[0;34m)\u001b[0m\u001b[0;34m\u001b[0m\u001b[0m\n",
      "\u001b[0;32m~/anaconda/envs/infogan-1/lib/python3.6/site-packages/tensorflow/python/client/session.py\u001b[0m in \u001b[0;36m_do_call\u001b[0;34m(self, fn, *args)\u001b[0m\n\u001b[1;32m   1325\u001b[0m   \u001b[0;32mdef\u001b[0m \u001b[0m_do_call\u001b[0m\u001b[0;34m(\u001b[0m\u001b[0mself\u001b[0m\u001b[0;34m,\u001b[0m \u001b[0mfn\u001b[0m\u001b[0;34m,\u001b[0m \u001b[0;34m*\u001b[0m\u001b[0margs\u001b[0m\u001b[0;34m)\u001b[0m\u001b[0;34m:\u001b[0m\u001b[0;34m\u001b[0m\u001b[0m\n\u001b[1;32m   1326\u001b[0m     \u001b[0;32mtry\u001b[0m\u001b[0;34m:\u001b[0m\u001b[0;34m\u001b[0m\u001b[0m\n\u001b[0;32m-> 1327\u001b[0;31m       \u001b[0;32mreturn\u001b[0m \u001b[0mfn\u001b[0m\u001b[0;34m(\u001b[0m\u001b[0;34m*\u001b[0m\u001b[0margs\u001b[0m\u001b[0;34m)\u001b[0m\u001b[0;34m\u001b[0m\u001b[0m\n\u001b[0m\u001b[1;32m   1328\u001b[0m     \u001b[0;32mexcept\u001b[0m \u001b[0merrors\u001b[0m\u001b[0;34m.\u001b[0m\u001b[0mOpError\u001b[0m \u001b[0;32mas\u001b[0m \u001b[0me\u001b[0m\u001b[0;34m:\u001b[0m\u001b[0;34m\u001b[0m\u001b[0m\n\u001b[1;32m   1329\u001b[0m       \u001b[0mmessage\u001b[0m \u001b[0;34m=\u001b[0m \u001b[0mcompat\u001b[0m\u001b[0;34m.\u001b[0m\u001b[0mas_text\u001b[0m\u001b[0;34m(\u001b[0m\u001b[0me\u001b[0m\u001b[0;34m.\u001b[0m\u001b[0mmessage\u001b[0m\u001b[0;34m)\u001b[0m\u001b[0;34m\u001b[0m\u001b[0m\n",
      "\u001b[0;32m~/anaconda/envs/infogan-1/lib/python3.6/site-packages/tensorflow/python/client/session.py\u001b[0m in \u001b[0;36m_run_fn\u001b[0;34m(session, feed_dict, fetch_list, target_list, options, run_metadata)\u001b[0m\n\u001b[1;32m   1304\u001b[0m           return tf_session.TF_Run(session, options,\n\u001b[1;32m   1305\u001b[0m                                    \u001b[0mfeed_dict\u001b[0m\u001b[0;34m,\u001b[0m \u001b[0mfetch_list\u001b[0m\u001b[0;34m,\u001b[0m \u001b[0mtarget_list\u001b[0m\u001b[0;34m,\u001b[0m\u001b[0;34m\u001b[0m\u001b[0m\n\u001b[0;32m-> 1306\u001b[0;31m                                    status, run_metadata)\n\u001b[0m\u001b[1;32m   1307\u001b[0m \u001b[0;34m\u001b[0m\u001b[0m\n\u001b[1;32m   1308\u001b[0m     \u001b[0;32mdef\u001b[0m \u001b[0m_prun_fn\u001b[0m\u001b[0;34m(\u001b[0m\u001b[0msession\u001b[0m\u001b[0;34m,\u001b[0m \u001b[0mhandle\u001b[0m\u001b[0;34m,\u001b[0m \u001b[0mfeed_dict\u001b[0m\u001b[0;34m,\u001b[0m \u001b[0mfetch_list\u001b[0m\u001b[0;34m)\u001b[0m\u001b[0;34m:\u001b[0m\u001b[0;34m\u001b[0m\u001b[0m\n",
      "\u001b[0;31mKeyboardInterrupt\u001b[0m: "
     ]
    }
   ],
   "source": [
    "sess = tf.Session()\n",
    "sess.run(tf.global_variables_initializer())\n",
    "saver = tf.train.Saver()\n",
    "\n",
    "try:\n",
    "    MODEL_PATH = MODEL_DIR + '/infogan.ckpt-'\n",
    "    saver.restore(sess, MODEL_PATH + str(LAST_CKPT))\n",
    "    start = LAST_CKPT\n",
    "    print(\"Model restored successfully\")\n",
    "except Exception as e:\n",
    "    start = 0\n",
    "    print(\"Model restore unsuccessful. Training from Epoch 0\")\n",
    "    \n",
    "    # Pre-train discriminator\n",
    "    for i in range(300):\n",
    "        z_batch = np.random.normal(0, 1, [batch_size, z_dim])\n",
    "        c_batch = np.random.multinomial(1, 10*[0.1], size=batch_size)\n",
    "        real_image_batch = mnist.train.next_batch(batch_size)[0].reshape([batch_size, 28, 28, 1])\n",
    "        _, __, dLossReal, dLossFake, gLoss, qLoss, qH = sess.run([d_train_real, d_train_fake, d_loss_real, d_loss_fake, g_loss, q_loss, q_H],\n",
    "                                               {x_in: real_image_batch, \n",
    "                                                z_noise: z_batch, \n",
    "                                                c_sim: c_batch})\n",
    "\n",
    "        if(i % 100 == 0):\n",
    "            print(\"dLossReal:\", dLossReal, \n",
    "                  \"dLossFake:\", dLossFake, \n",
    "                  \"G_Loss:\", gLoss, \n",
    "                  \"Q_loss:\", qLoss, \n",
    "                  \"Q_entropy:\", qH)\n",
    "\n",
    "# Train generator and discriminator together\n",
    "for i in range(start, nb_epochs):\n",
    "    train_batch = mnist.train.next_batch(batch_size)\n",
    "    real_image_batch = train_batch[0].reshape([batch_size, 28, 28, 1])\n",
    "    real_label_batch = np.eye(c_dim, dtype=np.int)[train_batch[1]]\n",
    "    \n",
    "    z_batch = np.random.normal(0, 1, [batch_size, z_dim])\n",
    "    c_batch = real_label_batch\n",
    "    \n",
    "\n",
    "    # Train discriminator on both real and fake images\n",
    "    _, __, dLossReal, dLossFake, gLoss, qLoss, qH = sess.run([d_train_real, d_train_fake, d_loss_real, d_loss_fake, g_loss, q_loss, q_H],\n",
    "                                           {x_in: real_image_batch, \n",
    "                                            z_noise: z_batch, \n",
    "                                            c_sim: c_batch})\n",
    "\n",
    "    # Train generator\n",
    "    z_batch = np.random.normal(0, 1, [batch_size, z_dim])\n",
    "    c_batch = real_label_batch\n",
    "    _ = sess.run(g_train, feed_dict={z_noise: z_batch, c_sim: c_batch})\n",
    "\n",
    "    if i % 10 == 0:\n",
    "        # Update TensorBoard with summary statistics\n",
    "        z_batch = np.random.normal(0, 1, [batch_size, z_dim])\n",
    "        c_batch = real_label_batch\n",
    "        summary = sess.run(merged, {z_noise: z_batch, c_sim: c_batch, x_in: real_image_batch})\n",
    "        writer.add_summary(summary, i)\n",
    "\n",
    "    if i % 100 == 0:\n",
    "        # Every 100 iterations, save a generated image\n",
    "        print(\"Iteration:\", i, \"at\", datetime.datetime.now())\n",
    "        print(\"dLossReal:\", dLossReal, \"dLossFake:\", dLossFake, \"G_Loss:\", gLoss, \"Q_loss:\", qLoss, \"Q_entropy:\", qH)\n",
    "        z_batch = np.random.normal(0, 1, [1, z_dim])\n",
    "        c_batch = np.random.multinomial(1, 10*[0.1], size=1)\n",
    "        generated_images = generator(c_sim, z_noise, 1, c_dim, z_dim)\n",
    "        images = sess.run(generated_images, {z_noise: z_batch, c_sim: c_batch})\n",
    "        plt.imshow(images[0].reshape([28, 28]), cmap='gist_gray')\n",
    "        plt.savefig(MODEL_DIR + \"/images/image-epoch-\" + str(i) + \".png\")\n",
    "        \n",
    "    if i % 1000 == 0:\n",
    "        # Every 1000 iterations, show a generated image\n",
    "        plt.show()\n",
    "\n",
    "        # Show discriminator's estimate\n",
    "        im = images[0].reshape([1, 28, 28, 1])\n",
    "        result, _ = discriminator(x_in, c_dim, 1) \n",
    "        estimate = sess.run(result, {x_in: im, c_sim: c_batch})\n",
    "        print(\"Estimate:\", estimate)\n",
    "    \n",
    "    if (i % 500 == 0) and (i > 0):\n",
    "        # Save Checkpoint\n",
    "        # Use absolute path outside of cloud drive (e.g. Dropbox) to avoid errors\n",
    "        try:\n",
    "            save_path = saver.save(sess, MODEL_DIR + '/infogan.ckpt', global_step=i)\n",
    "            print(\"Model saved in file: %s\" % save_path)\n",
    "        except Exception as e:\n",
    "            print(\"Model save failed: {}\".format(e))"
   ]
  },
  {
   "cell_type": "markdown",
   "metadata": {},
   "source": [
    "## Model Restoring and Results"
   ]
  },
  {
   "cell_type": "code",
   "execution_count": 33,
   "metadata": {},
   "outputs": [
    {
     "name": "stdout",
     "output_type": "stream",
     "text": [
      "INFO:tensorflow:Restoring parameters from ./models/infogan.ckpt-100000\n"
     ]
    },
    {
     "data": {
      "image/png": "[encoded data removed]",
      "text/plain": [
       "<matplotlib.figure.Figure at 0x11f9c5da0>"
      ]
     },
     "metadata": {},
     "output_type": "display_data"
    },
    {
     "data": {
      "image/png": "[encoded data removed]",
      "text/plain": [
       "<matplotlib.figure.Figure at 0x11cc43e48>"
      ]
     },
     "metadata": {},
     "output_type": "display_data"
    },
    {
     "data": {
      "image/png": "[encoded data removed]",
      "text/plain": [
       "<matplotlib.figure.Figure at 0x11f976908>"
      ]
     },
     "metadata": {},
     "output_type": "display_data"
    },
    {
     "data": {
      "image/png": "[encoded data removed]",
      "text/plain": [
       "<matplotlib.figure.Figure at 0x11f997518>"
      ]
     },
     "metadata": {},
     "output_type": "display_data"
    },
    {
     "data": {
      "image/png": "[encoded data removed]",
      "text/plain": [
       "<matplotlib.figure.Figure at 0x118df9240>"
      ]
     },
     "metadata": {},
     "output_type": "display_data"
    },
    {
     "data": {
      "image/png": "[encoded data removed]",
      "text/plain": [
       "<matplotlib.figure.Figure at 0x1197f8048>"
      ]
     },
     "metadata": {},
     "output_type": "display_data"
    },
    {
     "data": {
      "image/png": "[encoded data removed]",
      "text/plain": [
       "<matplotlib.figure.Figure at 0x11c037748>"
      ]
     },
     "metadata": {},
     "output_type": "display_data"
    },
    {
     "data": {
      "image/png": "[encoded data removed]",
      "text/plain": [
       "<matplotlib.figure.Figure at 0x11cabb0f0>"
      ]
     },
     "metadata": {},
     "output_type": "display_data"
    },
    {
     "data": {
      "image/png": "[encoded data removed]",
      "text/plain": [
       "<matplotlib.figure.Figure at 0x11990dba8>"
      ]
     },
     "metadata": {},
     "output_type": "display_data"
    },
    {
     "data": {
      "image/png": "[encoded data removed]",
      "text/plain": [
       "<matplotlib.figure.Figure at 0x122818eb8>"
      ]
     },
     "metadata": {},
     "output_type": "display_data"
    }
   ],
   "source": [
    "LAST_CKPT = 100000 # Number of last checkpoint to restore and resume training from\n",
    "saver = tf.train.Saver()\n",
    "images_num = 10 # how many images to show\n",
    "with tf.Session() as sess:\n",
    "    saver.restore(sess, MODEL_DIR + '/infogan.ckpt-' + str(LAST_CKPT))\n",
    "    z_batch = np.random.normal(0, 1, size=[images_num, z_dim])\n",
    "    c_batch = np.random.multinomial(1, 10*[0.1], size=images_num) # random digits\n",
    "    #c_batch = np.identity(images_num) # One example of each digit\n",
    "    z_noise = tf.placeholder(tf.float32, [None, z_dim], name='z_placeholder') \n",
    "    generated_images = generator(c_sim, z_noise, images_num, c_dim, z_dim)\n",
    "    images = sess.run(generated_images, {z_noise: z_batch, c_sim: c_batch})\n",
    "    for i in range(10):\n",
    "        plt.imshow(images[i].reshape([28, 28]), cmap='gist_gray')\n",
    "        plt.show()"
   ]
  }
 ],
 "metadata": {
  "anaconda-cloud": {},
  "kernelspec": {
   "display_name": "Python [conda env:infogan-1]",
   "language": "python",
   "name": "conda-env-infogan-1-py"
  },
  "language_info": {
   "codemirror_mode": {
    "name": "ipython",
    "version": 3
   },
   "file_extension": ".py",
   "mimetype": "text/x-python",
   "name": "python",
   "nbconvert_exporter": "python",
   "pygments_lexer": "ipython3",
   "version": "3.6.0"
  }
 },
 "nbformat": 4,
 "nbformat_minor": 1
}
